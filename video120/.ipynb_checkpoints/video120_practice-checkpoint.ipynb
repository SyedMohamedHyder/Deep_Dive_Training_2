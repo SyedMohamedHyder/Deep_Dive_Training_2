{
 "cells": [
  {
   "cell_type": "code",
   "execution_count": 1,
   "id": "eligible-render",
   "metadata": {},
   "outputs": [],
   "source": [
    "import csv "
   ]
  },
  {
   "cell_type": "code",
   "execution_count": 2,
   "id": "portuguese-vocabulary",
   "metadata": {},
   "outputs": [],
   "source": [
    "filename = '../cars.csv'"
   ]
  },
  {
   "cell_type": "code",
   "execution_count": 28,
   "id": "native-paragraph",
   "metadata": {},
   "outputs": [],
   "source": [
    "def parse_data(filename):\n",
    "    try:\n",
    "        with open(filename, 'r') as file:\n",
    "            dialect = csv.Sniffer().sniff(file.read(1000))\n",
    "            file.seek(0)\n",
    "            reader = csv.reader(file, dialect = dialect)\n",
    "            for row in reader:\n",
    "                yield row\n",
    "    finally:\n",
    "        print('Closing file')\n",
    "        file.close()"
   ]
  },
  {
   "cell_type": "code",
   "execution_count": 23,
   "id": "young-hunter",
   "metadata": {},
   "outputs": [],
   "source": [
    "data = parse_data(filename)"
   ]
  },
  {
   "cell_type": "code",
   "execution_count": 24,
   "id": "attempted-metallic",
   "metadata": {},
   "outputs": [
    {
     "data": {
      "text/plain": [
       "['Car',\n",
       " 'MPG',\n",
       " 'Cylinders',\n",
       " 'Displacement',\n",
       " 'Horsepower',\n",
       " 'Weight',\n",
       " 'Acceleration',\n",
       " 'Model',\n",
       " 'Origin']"
      ]
     },
     "execution_count": 24,
     "metadata": {},
     "output_type": "execute_result"
    }
   ],
   "source": [
    "next(data)"
   ]
  },
  {
   "cell_type": "code",
   "execution_count": 25,
   "id": "continued-davis",
   "metadata": {},
   "outputs": [
    {
     "data": {
      "text/plain": [
       "['Chevrolet Chevelle Malibu',\n",
       " '18.0',\n",
       " '8',\n",
       " '307.0',\n",
       " '130.0',\n",
       " '3504.',\n",
       " '12.0',\n",
       " '70',\n",
       " 'US']"
      ]
     },
     "execution_count": 25,
     "metadata": {},
     "output_type": "execute_result"
    }
   ],
   "source": [
    "next(data)"
   ]
  },
  {
   "cell_type": "code",
   "execution_count": 20,
   "id": "understood-behavior",
   "metadata": {},
   "outputs": [
    {
     "data": {
      "text/plain": [
       "['Buick Skylark 320',\n",
       " '15.0',\n",
       " '8',\n",
       " '350.0',\n",
       " '165.0',\n",
       " '3693.',\n",
       " '11.5',\n",
       " '70',\n",
       " 'US']"
      ]
     },
     "execution_count": 20,
     "metadata": {},
     "output_type": "execute_result"
    }
   ],
   "source": [
    "next(data)"
   ]
  },
  {
   "cell_type": "code",
   "execution_count": 27,
   "id": "acting-lecture",
   "metadata": {},
   "outputs": [
    {
     "name": "stdout",
     "output_type": "stream",
     "text": [
      "Closing file\n"
     ]
    }
   ],
   "source": [
    "data.close()"
   ]
  },
  {
   "cell_type": "code",
   "execution_count": 38,
   "id": "suspended-quick",
   "metadata": {},
   "outputs": [],
   "source": [
    "def parse_data(filename):\n",
    "    try:\n",
    "        with open(filename, 'r') as file:\n",
    "            dialect = csv.Sniffer().sniff(file.read(1000))\n",
    "            file.seek(0)\n",
    "            reader = csv.reader(file, dialect = dialect)\n",
    "            for row in reader:\n",
    "                yield row\n",
    "    except Exception:\n",
    "        print('An exception occured')\n",
    "    except GeneratorExit:\n",
    "        print('GeneratorExit was called')\n",
    "    finally:\n",
    "        print('Closing file')\n",
    "        file.close()"
   ]
  },
  {
   "cell_type": "code",
   "execution_count": 39,
   "id": "attached-garbage",
   "metadata": {},
   "outputs": [],
   "source": [
    "data = parse_data(filename)"
   ]
  },
  {
   "cell_type": "code",
   "execution_count": 40,
   "id": "variable-giant",
   "metadata": {},
   "outputs": [
    {
     "data": {
      "text/plain": [
       "['Car',\n",
       " 'MPG',\n",
       " 'Cylinders',\n",
       " 'Displacement',\n",
       " 'Horsepower',\n",
       " 'Weight',\n",
       " 'Acceleration',\n",
       " 'Model',\n",
       " 'Origin']"
      ]
     },
     "execution_count": 40,
     "metadata": {},
     "output_type": "execute_result"
    }
   ],
   "source": [
    "next(data)"
   ]
  },
  {
   "cell_type": "code",
   "execution_count": 41,
   "id": "elder-princeton",
   "metadata": {},
   "outputs": [
    {
     "data": {
      "text/plain": [
       "['Chevrolet Chevelle Malibu',\n",
       " '18.0',\n",
       " '8',\n",
       " '307.0',\n",
       " '130.0',\n",
       " '3504.',\n",
       " '12.0',\n",
       " '70',\n",
       " 'US']"
      ]
     },
     "execution_count": 41,
     "metadata": {},
     "output_type": "execute_result"
    }
   ],
   "source": [
    "next(data)"
   ]
  },
  {
   "cell_type": "code",
   "execution_count": 42,
   "id": "homeless-north",
   "metadata": {},
   "outputs": [
    {
     "name": "stdout",
     "output_type": "stream",
     "text": [
      "An exception occured\n",
      "Closing file\n"
     ]
    },
    {
     "ename": "StopIteration",
     "evalue": "",
     "output_type": "error",
     "traceback": [
      "\u001b[1;31m---------------------------------------------------------------------------\u001b[0m",
      "\u001b[1;31mStopIteration\u001b[0m                             Traceback (most recent call last)",
      "\u001b[1;32m<ipython-input-42-3ce99b9ad086>\u001b[0m in \u001b[0;36m<module>\u001b[1;34m\u001b[0m\n\u001b[1;32m----> 1\u001b[1;33m \u001b[0mdata\u001b[0m\u001b[1;33m.\u001b[0m\u001b[0mthrow\u001b[0m\u001b[1;33m(\u001b[0m\u001b[0mValueError\u001b[0m\u001b[1;33m)\u001b[0m\u001b[1;33m\u001b[0m\u001b[1;33m\u001b[0m\u001b[0m\n\u001b[0m",
      "\u001b[1;31mStopIteration\u001b[0m: "
     ]
    }
   ],
   "source": [
    "data.throw(ValueError)"
   ]
  },
  {
   "cell_type": "code",
   "execution_count": 43,
   "id": "double-passion",
   "metadata": {},
   "outputs": [],
   "source": [
    "data = parse_data(filename)"
   ]
  },
  {
   "cell_type": "code",
   "execution_count": 44,
   "id": "filled-shame",
   "metadata": {},
   "outputs": [],
   "source": [
    "data.close()"
   ]
  },
  {
   "cell_type": "code",
   "execution_count": 47,
   "id": "fluid-chain",
   "metadata": {},
   "outputs": [],
   "source": [
    "data = parse_data(filename)"
   ]
  },
  {
   "cell_type": "code",
   "execution_count": 48,
   "id": "third-strap",
   "metadata": {},
   "outputs": [
    {
     "data": {
      "text/plain": [
       "['Car',\n",
       " 'MPG',\n",
       " 'Cylinders',\n",
       " 'Displacement',\n",
       " 'Horsepower',\n",
       " 'Weight',\n",
       " 'Acceleration',\n",
       " 'Model',\n",
       " 'Origin']"
      ]
     },
     "execution_count": 48,
     "metadata": {},
     "output_type": "execute_result"
    }
   ],
   "source": [
    "next(data)"
   ]
  },
  {
   "cell_type": "code",
   "execution_count": 49,
   "id": "pretty-ethics",
   "metadata": {},
   "outputs": [
    {
     "name": "stdout",
     "output_type": "stream",
     "text": [
      "GeneratorExit was called\n",
      "Closing file\n"
     ]
    },
    {
     "ename": "StopIteration",
     "evalue": "",
     "output_type": "error",
     "traceback": [
      "\u001b[1;31m---------------------------------------------------------------------------\u001b[0m",
      "\u001b[1;31mStopIteration\u001b[0m                             Traceback (most recent call last)",
      "\u001b[1;32m<ipython-input-49-d378a8690509>\u001b[0m in \u001b[0;36m<module>\u001b[1;34m\u001b[0m\n\u001b[1;32m----> 1\u001b[1;33m \u001b[0mdata\u001b[0m\u001b[1;33m.\u001b[0m\u001b[0mthrow\u001b[0m\u001b[1;33m(\u001b[0m\u001b[0mGeneratorExit\u001b[0m\u001b[1;33m)\u001b[0m\u001b[1;33m\u001b[0m\u001b[1;33m\u001b[0m\u001b[0m\n\u001b[0m",
      "\u001b[1;31mStopIteration\u001b[0m: "
     ]
    }
   ],
   "source": [
    "data.throw(GeneratorExit)"
   ]
  },
  {
   "cell_type": "code",
   "execution_count": 50,
   "id": "cardiovascular-express",
   "metadata": {},
   "outputs": [],
   "source": [
    "data = parse_data(filename)"
   ]
  },
  {
   "cell_type": "code",
   "execution_count": 51,
   "id": "fixed-receiver",
   "metadata": {},
   "outputs": [
    {
     "ename": "ValueError",
     "evalue": "",
     "output_type": "error",
     "traceback": [
      "\u001b[1;31m---------------------------------------------------------------------------\u001b[0m",
      "\u001b[1;31mValueError\u001b[0m                                Traceback (most recent call last)",
      "\u001b[1;32m<ipython-input-51-3ce99b9ad086>\u001b[0m in \u001b[0;36m<module>\u001b[1;34m\u001b[0m\n\u001b[1;32m----> 1\u001b[1;33m \u001b[0mdata\u001b[0m\u001b[1;33m.\u001b[0m\u001b[0mthrow\u001b[0m\u001b[1;33m(\u001b[0m\u001b[0mValueError\u001b[0m\u001b[1;33m)\u001b[0m\u001b[1;33m\u001b[0m\u001b[1;33m\u001b[0m\u001b[0m\n\u001b[0m",
      "\u001b[1;32m<ipython-input-38-d00f87612163>\u001b[0m in \u001b[0;36mparse_data\u001b[1;34m(filename)\u001b[0m\n\u001b[1;32m----> 1\u001b[1;33m \u001b[1;32mdef\u001b[0m \u001b[0mparse_data\u001b[0m\u001b[1;33m(\u001b[0m\u001b[0mfilename\u001b[0m\u001b[1;33m)\u001b[0m\u001b[1;33m:\u001b[0m\u001b[1;33m\u001b[0m\u001b[1;33m\u001b[0m\u001b[0m\n\u001b[0m\u001b[0;32m      2\u001b[0m     \u001b[1;32mtry\u001b[0m\u001b[1;33m:\u001b[0m\u001b[1;33m\u001b[0m\u001b[1;33m\u001b[0m\u001b[0m\n\u001b[0;32m      3\u001b[0m         \u001b[1;32mwith\u001b[0m \u001b[0mopen\u001b[0m\u001b[1;33m(\u001b[0m\u001b[0mfilename\u001b[0m\u001b[1;33m,\u001b[0m \u001b[1;34m'r'\u001b[0m\u001b[1;33m)\u001b[0m \u001b[1;32mas\u001b[0m \u001b[0mfile\u001b[0m\u001b[1;33m:\u001b[0m\u001b[1;33m\u001b[0m\u001b[1;33m\u001b[0m\u001b[0m\n\u001b[0;32m      4\u001b[0m             \u001b[0mdialect\u001b[0m \u001b[1;33m=\u001b[0m \u001b[0mcsv\u001b[0m\u001b[1;33m.\u001b[0m\u001b[0mSniffer\u001b[0m\u001b[1;33m(\u001b[0m\u001b[1;33m)\u001b[0m\u001b[1;33m.\u001b[0m\u001b[0msniff\u001b[0m\u001b[1;33m(\u001b[0m\u001b[0mfile\u001b[0m\u001b[1;33m.\u001b[0m\u001b[0mread\u001b[0m\u001b[1;33m(\u001b[0m\u001b[1;36m1000\u001b[0m\u001b[1;33m)\u001b[0m\u001b[1;33m)\u001b[0m\u001b[1;33m\u001b[0m\u001b[1;33m\u001b[0m\u001b[0m\n\u001b[0;32m      5\u001b[0m             \u001b[0mfile\u001b[0m\u001b[1;33m.\u001b[0m\u001b[0mseek\u001b[0m\u001b[1;33m(\u001b[0m\u001b[1;36m0\u001b[0m\u001b[1;33m)\u001b[0m\u001b[1;33m\u001b[0m\u001b[1;33m\u001b[0m\u001b[0m\n",
      "\u001b[1;31mValueError\u001b[0m: "
     ]
    }
   ],
   "source": [
    "data.throw(ValueError)"
   ]
  },
  {
   "cell_type": "code",
   "execution_count": 53,
   "id": "unique-romance",
   "metadata": {},
   "outputs": [],
   "source": [
    "def save_to_db():\n",
    "    try:\n",
    "        while True:\n",
    "            recieved = yield\n",
    "            print('Saving : ', recieved)\n",
    "    except Exception:\n",
    "        print('Aborting transaction')\n",
    "        raise\n",
    "    except GeneratorExit:\n",
    "        print('Commiting transaction')"
   ]
  },
  {
   "cell_type": "code",
   "execution_count": 54,
   "id": "handled-philosophy",
   "metadata": {},
   "outputs": [],
   "source": [
    "trans = save_to_db()"
   ]
  },
  {
   "cell_type": "code",
   "execution_count": 56,
   "id": "alien-praise",
   "metadata": {},
   "outputs": [],
   "source": [
    "next(trans)"
   ]
  },
  {
   "cell_type": "code",
   "execution_count": 57,
   "id": "material-frederick",
   "metadata": {},
   "outputs": [
    {
     "name": "stdout",
     "output_type": "stream",
     "text": [
      "Saving :  Hello\n"
     ]
    }
   ],
   "source": [
    "trans.send('Hello')"
   ]
  },
  {
   "cell_type": "code",
   "execution_count": 58,
   "id": "threaded-harmony",
   "metadata": {},
   "outputs": [
    {
     "name": "stdout",
     "output_type": "stream",
     "text": [
      "Saving :  World\n"
     ]
    }
   ],
   "source": [
    "trans.send('World')"
   ]
  },
  {
   "cell_type": "code",
   "execution_count": 59,
   "id": "satisfied-northeast",
   "metadata": {},
   "outputs": [
    {
     "name": "stdout",
     "output_type": "stream",
     "text": [
      "Aborting transaction\n"
     ]
    },
    {
     "ename": "ValueError",
     "evalue": "",
     "output_type": "error",
     "traceback": [
      "\u001b[1;31m---------------------------------------------------------------------------\u001b[0m",
      "\u001b[1;31mValueError\u001b[0m                                Traceback (most recent call last)",
      "\u001b[1;32m<ipython-input-59-370e226083f0>\u001b[0m in \u001b[0;36m<module>\u001b[1;34m\u001b[0m\n\u001b[1;32m----> 1\u001b[1;33m \u001b[0mtrans\u001b[0m\u001b[1;33m.\u001b[0m\u001b[0mthrow\u001b[0m\u001b[1;33m(\u001b[0m\u001b[0mValueError\u001b[0m\u001b[1;33m)\u001b[0m\u001b[1;33m\u001b[0m\u001b[1;33m\u001b[0m\u001b[0m\n\u001b[0m",
      "\u001b[1;32m<ipython-input-53-2a419b36182e>\u001b[0m in \u001b[0;36msave_to_db\u001b[1;34m()\u001b[0m\n\u001b[0;32m      2\u001b[0m     \u001b[1;32mtry\u001b[0m\u001b[1;33m:\u001b[0m\u001b[1;33m\u001b[0m\u001b[1;33m\u001b[0m\u001b[0m\n\u001b[0;32m      3\u001b[0m         \u001b[1;32mwhile\u001b[0m \u001b[1;32mTrue\u001b[0m\u001b[1;33m:\u001b[0m\u001b[1;33m\u001b[0m\u001b[1;33m\u001b[0m\u001b[0m\n\u001b[1;32m----> 4\u001b[1;33m             \u001b[0mrecieved\u001b[0m \u001b[1;33m=\u001b[0m \u001b[1;32myield\u001b[0m\u001b[1;33m\u001b[0m\u001b[1;33m\u001b[0m\u001b[0m\n\u001b[0m\u001b[0;32m      5\u001b[0m             \u001b[0mprint\u001b[0m\u001b[1;33m(\u001b[0m\u001b[1;34m'Saving : '\u001b[0m\u001b[1;33m,\u001b[0m \u001b[0mrecieved\u001b[0m\u001b[1;33m)\u001b[0m\u001b[1;33m\u001b[0m\u001b[1;33m\u001b[0m\u001b[0m\n\u001b[0;32m      6\u001b[0m     \u001b[1;32mexcept\u001b[0m \u001b[0mException\u001b[0m\u001b[1;33m:\u001b[0m\u001b[1;33m\u001b[0m\u001b[1;33m\u001b[0m\u001b[0m\n",
      "\u001b[1;31mValueError\u001b[0m: "
     ]
    }
   ],
   "source": [
    "trans.throw(ValueError)"
   ]
  },
  {
   "cell_type": "code",
   "execution_count": 60,
   "id": "filled-destruction",
   "metadata": {},
   "outputs": [],
   "source": [
    "trans = save_to_db()"
   ]
  },
  {
   "cell_type": "code",
   "execution_count": 61,
   "id": "deluxe-tuning",
   "metadata": {},
   "outputs": [],
   "source": [
    "next(trans)"
   ]
  },
  {
   "cell_type": "code",
   "execution_count": 62,
   "id": "divine-running",
   "metadata": {},
   "outputs": [
    {
     "name": "stdout",
     "output_type": "stream",
     "text": [
      "Commiting transaction\n"
     ]
    }
   ],
   "source": [
    "trans.close()"
   ]
  },
  {
   "cell_type": "code",
   "execution_count": null,
   "id": "about-insert",
   "metadata": {},
   "outputs": [],
   "source": []
  }
 ],
 "metadata": {
  "kernelspec": {
   "display_name": "Python 3",
   "language": "python",
   "name": "python3"
  },
  "language_info": {
   "codemirror_mode": {
    "name": "ipython",
    "version": 3
   },
   "file_extension": ".py",
   "mimetype": "text/x-python",
   "name": "python",
   "nbconvert_exporter": "python",
   "pygments_lexer": "ipython3",
   "version": "3.9.1"
  }
 },
 "nbformat": 4,
 "nbformat_minor": 5
}
