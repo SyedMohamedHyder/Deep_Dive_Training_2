{
 "cells": [
  {
   "cell_type": "code",
   "execution_count": 9,
   "id": "entitled-maryland",
   "metadata": {},
   "outputs": [],
   "source": [
    "def echo(max_times):\n",
    "    for i in range(max_times):\n",
    "        recieved = yield i\n",
    "        print('recieved', recieved)\n",
    "        "
   ]
  },
  {
   "cell_type": "code",
   "execution_count": 10,
   "id": "informative-uganda",
   "metadata": {},
   "outputs": [],
   "source": [
    "e = echo(3)"
   ]
  },
  {
   "cell_type": "code",
   "execution_count": 11,
   "id": "accomplished-breed",
   "metadata": {},
   "outputs": [
    {
     "data": {
      "text/plain": [
       "0"
      ]
     },
     "execution_count": 11,
     "metadata": {},
     "output_type": "execute_result"
    }
   ],
   "source": [
    "e.send(None)"
   ]
  },
  {
   "cell_type": "code",
   "execution_count": 12,
   "id": "suspended-dakota",
   "metadata": {},
   "outputs": [
    {
     "name": "stdout",
     "output_type": "stream",
     "text": [
      "recieved Hello\n"
     ]
    },
    {
     "data": {
      "text/plain": [
       "1"
      ]
     },
     "execution_count": 12,
     "metadata": {},
     "output_type": "execute_result"
    }
   ],
   "source": [
    "e.send('Hello')"
   ]
  },
  {
   "cell_type": "code",
   "execution_count": 13,
   "id": "legislative-summer",
   "metadata": {},
   "outputs": [
    {
     "name": "stdout",
     "output_type": "stream",
     "text": [
      "recieved HEllo World\n"
     ]
    },
    {
     "data": {
      "text/plain": [
       "2"
      ]
     },
     "execution_count": 13,
     "metadata": {},
     "output_type": "execute_result"
    }
   ],
   "source": [
    "e.send('HEllo World')"
   ]
  },
  {
   "cell_type": "code",
   "execution_count": 14,
   "id": "covered-accent",
   "metadata": {},
   "outputs": [
    {
     "name": "stdout",
     "output_type": "stream",
     "text": [
      "recieved ,,,,,,,,,,,,,,\n"
     ]
    },
    {
     "ename": "StopIteration",
     "evalue": "",
     "output_type": "error",
     "traceback": [
      "\u001b[1;31m---------------------------------------------------------------------------\u001b[0m",
      "\u001b[1;31mStopIteration\u001b[0m                             Traceback (most recent call last)",
      "\u001b[1;32m<ipython-input-14-e3608c5e1364>\u001b[0m in \u001b[0;36m<module>\u001b[1;34m\u001b[0m\n\u001b[1;32m----> 1\u001b[1;33m \u001b[0me\u001b[0m\u001b[1;33m.\u001b[0m\u001b[0msend\u001b[0m\u001b[1;33m(\u001b[0m\u001b[1;34m',,,,,,,,,,,,,,'\u001b[0m\u001b[1;33m)\u001b[0m\u001b[1;33m\u001b[0m\u001b[1;33m\u001b[0m\u001b[0m\n\u001b[0m",
      "\u001b[1;31mStopIteration\u001b[0m: "
     ]
    }
   ],
   "source": [
    "e.send(',,,,,,,,,,,,,,')"
   ]
  },
  {
   "cell_type": "code",
   "execution_count": 16,
   "id": "apart-saying",
   "metadata": {},
   "outputs": [],
   "source": [
    "def averager():\n",
    "    total = 0\n",
    "    count = 0\n",
    "    def inner(value):\n",
    "        nonlocal total\n",
    "        nonlocal count\n",
    "        total += value\n",
    "        count += 1\n",
    "        return total / count\n",
    "    return inner"
   ]
  },
  {
   "cell_type": "code",
   "execution_count": 17,
   "id": "hungry-inspector",
   "metadata": {},
   "outputs": [],
   "source": [
    "def running_averages(*values):\n",
    "    avg = averager()\n",
    "    for value in values:\n",
    "        print(avg(value))"
   ]
  },
  {
   "cell_type": "code",
   "execution_count": 18,
   "id": "romantic-creativity",
   "metadata": {},
   "outputs": [
    {
     "name": "stdout",
     "output_type": "stream",
     "text": [
      "1.0\n",
      "1.5\n",
      "2.0\n",
      "2.5\n",
      "3.0\n"
     ]
    }
   ],
   "source": [
    "running_averages(1,2,3,4,5)"
   ]
  },
  {
   "cell_type": "code",
   "execution_count": 3,
   "id": "impressive-drive",
   "metadata": {},
   "outputs": [],
   "source": [
    "def coroutine(gen_fn):\n",
    "    def inner():\n",
    "        gen = gen_fn()\n",
    "        next(gen)\n",
    "        return gen\n",
    "    return inner"
   ]
  },
  {
   "cell_type": "code",
   "execution_count": 16,
   "id": "incredible-combination",
   "metadata": {},
   "outputs": [],
   "source": [
    "@coroutine\n",
    "def averager():\n",
    "    total = 0\n",
    "    count = 0\n",
    "    average = None\n",
    "    while True:\n",
    "        value = yield average\n",
    "        total += value\n",
    "        count += 1\n",
    "        average = total/count"
   ]
  },
  {
   "cell_type": "code",
   "execution_count": 26,
   "id": "nasty-contrast",
   "metadata": {},
   "outputs": [],
   "source": [
    "def running_averages(*values):\n",
    "    global avg\n",
    "    avg = averager()\n",
    "    for value in values:\n",
    "        average = avg.send(value)\n",
    "        print(average)"
   ]
  },
  {
   "cell_type": "code",
   "execution_count": 27,
   "id": "genetic-compatibility",
   "metadata": {},
   "outputs": [],
   "source": [
    "from inspect import getgeneratorstate"
   ]
  },
  {
   "cell_type": "code",
   "execution_count": 28,
   "id": "affecting-skiing",
   "metadata": {
    "scrolled": true
   },
   "outputs": [
    {
     "name": "stdout",
     "output_type": "stream",
     "text": [
      "1.0\n",
      "1.5\n",
      "2.0\n",
      "2.5\n",
      "3.0\n"
     ]
    }
   ],
   "source": [
    "running_averages(1, 2, 3, 4, 5)"
   ]
  },
  {
   "cell_type": "code",
   "execution_count": 29,
   "id": "intellectual-light",
   "metadata": {},
   "outputs": [
    {
     "data": {
      "text/plain": [
       "'GEN_SUSPENDED'"
      ]
     },
     "execution_count": 29,
     "metadata": {},
     "output_type": "execute_result"
    }
   ],
   "source": [
    "getgeneratorstate(avg)"
   ]
  },
  {
   "cell_type": "code",
   "execution_count": 30,
   "id": "drawn-civilization",
   "metadata": {},
   "outputs": [],
   "source": [
    "avg.close()"
   ]
  },
  {
   "cell_type": "code",
   "execution_count": 31,
   "id": "virgin-evans",
   "metadata": {},
   "outputs": [
    {
     "data": {
      "text/plain": [
       "'GEN_CLOSED'"
      ]
     },
     "execution_count": 31,
     "metadata": {},
     "output_type": "execute_result"
    }
   ],
   "source": [
    "getgeneratorstate(avg)"
   ]
  },
  {
   "cell_type": "code",
   "execution_count": null,
   "id": "common-planning",
   "metadata": {},
   "outputs": [],
   "source": []
  }
 ],
 "metadata": {
  "kernelspec": {
   "display_name": "Python 3",
   "language": "python",
   "name": "python3"
  },
  "language_info": {
   "codemirror_mode": {
    "name": "ipython",
    "version": 3
   },
   "file_extension": ".py",
   "mimetype": "text/x-python",
   "name": "python",
   "nbconvert_exporter": "python",
   "pygments_lexer": "ipython3",
   "version": "3.9.1"
  }
 },
 "nbformat": 4,
 "nbformat_minor": 5
}
