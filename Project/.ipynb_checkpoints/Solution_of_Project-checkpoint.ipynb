{
 "cells": [
  {
   "cell_type": "code",
   "execution_count": null,
   "id": "lesser-hydrogen",
   "metadata": {},
   "outputs": [],
   "source": [
    "import csv\n",
    "from contextlib import contextmanager"
   ]
  },
  {
   "cell_type": "code",
   "execution_count": null,
   "id": "czech-telescope",
   "metadata": {},
   "outputs": [],
   "source": [
    "def data_reader(filename):\n",
    "    with open(filename, 'r') as file:\n",
    "        dialect = csv.Sniffer().sniff(file.read(2000))\n",
    "        file.seek(0)\n",
    "        reader = csv.reader(file, dialect=dialect)\n",
    "        yield from reader\n",
    "        \n",
    "def get_header(filename):\n",
    "    data = data_reader(filename)\n",
    "    return next(data)\n",
    "\n",
    "def data_parser(filename):\n",
    "    \n",
    "    mapping_dict = {\n",
    "        'Car' : str,\n",
    "        'MPG' : float,\n",
    "        'Cylinders' : int,\n",
    "        'Displacement' : float,\n",
    "        'Horsepower' : float,\n",
    "        'Weight' : float,\n",
    "        'Acceleration' : float,\n",
    "        'Model' : int,\n",
    "        'Origin' : str    \n",
    "    }\n",
    "    \n",
    "    data = data_reader(filename)\n",
    "    next(data)\n",
    "    headers = get_header(filename)\n",
    "    for row in data:\n",
    "        yield [mapping_dict[header](datum) for header, datum in zip(headers, row)]\n",
    "    \n",
    "def coroutine(gen_fn):\n",
    "    def inner(*args, **kwargs):\n",
    "        gen = gen_fn(*args, **kwargs)\n",
    "        next(gen)\n",
    "        return gen\n",
    "    return inner\n",
    "    \n",
    "@coroutine\n",
    "def save_data(filename, header):\n",
    "    with open(filename, 'w', newline='') as file:\n",
    "        writer = csv.writer(file)\n",
    "        writer.writerow(header)\n",
    "        while True:\n",
    "            row = yield\n",
    "            writer.writerow(row)\n",
    "            \n",
    "@coroutine\n",
    "def filter_data(filter_predicate, target):\n",
    "    while True:\n",
    "        row = yield\n",
    "        if filter_predicate(row):\n",
    "            target.send(row)\n",
    "            \n",
    "@coroutine\n",
    "def broadcaster(*targets):\n",
    "    while True:\n",
    "        row = yield\n",
    "        for target in targets:\n",
    "            target.send(row)\n",
    "            "
   ]
  },
  {
   "cell_type": "code",
   "execution_count": null,
   "id": "automatic-guess",
   "metadata": {},
   "outputs": [],
   "source": [
    "filename = 'cars.csv'\n",
    "header = get_header(filename)"
   ]
  },
  {
   "cell_type": "code",
   "execution_count": null,
   "id": "later-reservation",
   "metadata": {},
   "outputs": [],
   "source": [
    "header"
   ]
  },
  {
   "cell_type": "code",
   "execution_count": null,
   "id": "completed-trance",
   "metadata": {},
   "outputs": [],
   "source": [
    "for row in data_parser(filename):\n",
    "    print(row)"
   ]
  },
  {
   "cell_type": "code",
   "execution_count": null,
   "id": "passing-cowboy",
   "metadata": {},
   "outputs": [],
   "source": [
    "@coroutine\n",
    "def pipeline_coroutine(file_to_process, output_filename, *filter_predicates):\n",
    "    headers = get_header(file_to_process)\n",
    "    output_data = save_data(output_filename, headers)\n",
    "    \n",
    "    for filter_predicate in filter_predicates:\n",
    "        output_data = filter_data(filter_predicate, output_data)\n",
    "        \n",
    "    while True:\n",
    "        row = yield\n",
    "        output_data.send(row)\n",
    "    "
   ]
  },
  {
   "cell_type": "code",
   "execution_count": null,
   "id": "facial-object",
   "metadata": {},
   "outputs": [],
   "source": [
    "pipe = pipeline_coroutine(filename, 'output.csv', lambda row: 'Landau' in row[0], lambda row: row[2]==8 )"
   ]
  },
  {
   "cell_type": "code",
   "execution_count": null,
   "id": "loving-silly",
   "metadata": {},
   "outputs": [],
   "source": [
    "data = data_parser(filename)"
   ]
  },
  {
   "cell_type": "code",
   "execution_count": null,
   "id": "patent-change",
   "metadata": {},
   "outputs": [],
   "source": [
    "for row in data:\n",
    "    pipe.send(row)"
   ]
  },
  {
   "cell_type": "code",
   "execution_count": null,
   "id": "organic-assault",
   "metadata": {},
   "outputs": [],
   "source": [
    "pipe.close()"
   ]
  },
  {
   "cell_type": "code",
   "execution_count": null,
   "id": "sapphire-watts",
   "metadata": {},
   "outputs": [],
   "source": [
    "for row in data_reader('output.csv'):\n",
    "    print(row)"
   ]
  },
  {
   "cell_type": "code",
   "execution_count": null,
   "id": "latter-characterization",
   "metadata": {},
   "outputs": [],
   "source": [
    "@contextmanager\n",
    "def pipeline(file_to_process, output_filename, *filter_predicates):\n",
    "    pipe = pipeline_coroutine(file_to_process, output_filename, *filter_predicates)\n",
    "    try:\n",
    "        yield pipe\n",
    "    finally:\n",
    "        pipe.close()"
   ]
  },
  {
   "cell_type": "code",
   "execution_count": null,
   "id": "thermal-hobby",
   "metadata": {},
   "outputs": [],
   "source": [
    "with pipeline(filename, 'output.csv', \n",
    "              lambda row: 'Chevrolet Monte' in row[0] , \n",
    "              lambda row: 'Landau' in row[0]) as pipe:\n",
    "    data = data_parser(filename)\n",
    "    for datum in data:\n",
    "        pipe.send(datum)"
   ]
  },
  {
   "cell_type": "code",
   "execution_count": null,
   "id": "suspended-hebrew",
   "metadata": {},
   "outputs": [],
   "source": [
    "for row in data_parser('output.csv'):\n",
    "    print(row)"
   ]
  },
  {
   "cell_type": "code",
   "execution_count": null,
   "id": "practical-estate",
   "metadata": {},
   "outputs": [],
   "source": [
    "def send_to_pipeline(filename, output_filename, *filter_predicates):\n",
    "    with pipeline(filename, 'output.csv', *filter_predicates) as pipe:\n",
    "    data = data_parser(filename)\n",
    "    for datum in data:\n",
    "        pipe.send(datum)"
   ]
  },
  {
   "cell_type": "markdown",
   "id": "quarterly-worcester",
   "metadata": {},
   "source": [
    "# Solution"
   ]
  },
  {
   "cell_type": "code",
   "execution_count": 4,
   "id": "ready-association",
   "metadata": {},
   "outputs": [],
   "source": [
    "import csv\n",
    "from contextlib import contextmanager\n",
    "\n",
    "def data_reader(filename):\n",
    "    with open(filename, 'r') as file:\n",
    "        dialect = csv.Sniffer().sniff(file.read(2000))\n",
    "        file.seek(0)\n",
    "        reader = csv.reader(file, dialect=dialect)\n",
    "        yield from reader\n",
    "        \n",
    "def get_header(filename):\n",
    "    data = data_reader(filename)\n",
    "    return next(data)\n",
    "\n",
    "def data_parser(filename):\n",
    "    \n",
    "    mapping_dict = {\n",
    "        'Car' : str,\n",
    "        'MPG' : float,\n",
    "        'Cylinders' : int,\n",
    "        'Displacement' : float,\n",
    "        'Horsepower' : float,\n",
    "        'Weight' : float,\n",
    "        'Acceleration' : float,\n",
    "        'Model' : int,\n",
    "        'Origin' : str    \n",
    "    }\n",
    "    \n",
    "    data = data_reader(filename)\n",
    "    next(data)\n",
    "    headers = get_header(filename)\n",
    "    for row in data:\n",
    "        yield [mapping_dict[header](datum) for header, datum in zip(headers, row)]\n",
    "    \n",
    "def coroutine(gen_fn):\n",
    "    def inner(*args, **kwargs):\n",
    "        gen = gen_fn(*args, **kwargs)\n",
    "        next(gen)\n",
    "        return gen\n",
    "    return inner\n",
    "    \n",
    "@coroutine\n",
    "def save_data(filename, header):\n",
    "    with open(filename, 'w', newline='') as file:\n",
    "        writer = csv.writer(file)\n",
    "        writer.writerow(header)\n",
    "        while True:\n",
    "            row = yield\n",
    "            writer.writerow(row)\n",
    "            \n",
    "@coroutine\n",
    "def filter_data(filter_predicate, target):\n",
    "    while True:\n",
    "        row = yield\n",
    "        if filter_predicate(row):\n",
    "            target.send(row)\n",
    "            \n",
    "@coroutine\n",
    "def pipeline_coroutine(file_to_process, output_filename, *filter_predicates):\n",
    "    headers = get_header(file_to_process)\n",
    "    output_data = save_data(output_filename, headers)\n",
    "    \n",
    "    for filter_predicate in filter_predicates:\n",
    "        output_data = filter_data(filter_predicate, output_data)\n",
    "        \n",
    "    while True:\n",
    "        row = yield\n",
    "        output_data.send(row)\n",
    "            \n",
    "@contextmanager\n",
    "def pipeline(file_to_process, output_filename, *filter_predicates):\n",
    "    pipe = pipeline_coroutine(file_to_process, output_filename, *filter_predicates)\n",
    "    try:\n",
    "        yield pipe\n",
    "    finally:\n",
    "        pipe.close()\n",
    "        \n",
    "def send_to_pipeline(filename, output_filename, *filter_predicates):\n",
    "    with pipeline(filename, 'output.csv', *filter_predicates) as pipe:\n",
    "        data = data_parser(filename)\n",
    "        for datum in data:\n",
    "            pipe.send(datum)"
   ]
  },
  {
   "cell_type": "code",
   "execution_count": 5,
   "id": "loved-participation",
   "metadata": {},
   "outputs": [],
   "source": [
    "filename = 'cars.csv'\n",
    "output_filename = 'output.csv'\n",
    "filter_predicates = (lambda row: 'Chevrolet' in row[0] , \n",
    "                     lambda row: 'Landau' in row[0],\n",
    "                     lambda row: 'Monte' in row[0],\n",
    "                    )"
   ]
  },
  {
   "cell_type": "code",
   "execution_count": 6,
   "id": "right-cylinder",
   "metadata": {},
   "outputs": [],
   "source": [
    "send_to_pipeline(filename, output_filename, *filter_predicates)"
   ]
  },
  {
   "cell_type": "code",
   "execution_count": 7,
   "id": "brilliant-utilization",
   "metadata": {},
   "outputs": [
    {
     "name": "stdout",
     "output_type": "stream",
     "text": [
      "['Car', 'MPG', 'Cylinders', 'Displacement', 'Horsepower', 'Weight', 'Acceleration', 'Model', 'Origin']\n",
      "['Chevrolet Monte Carlo Landau', '15.5', '8', '350.0', '170.0', '4165.0', '11.4', '77', 'US']\n",
      "['Chevrolet Monte Carlo Landau', '19.2', '8', '305.0', '145.0', '3425.0', '13.2', '78', 'US']\n"
     ]
    }
   ],
   "source": [
    "for data in data_reader('output.csv'):\n",
    "    print(data)"
   ]
  },
  {
   "cell_type": "code",
   "execution_count": 8,
   "id": "announced-airplane",
   "metadata": {},
   "outputs": [],
   "source": [
    "send_to_pipeline(filename, output_filename, *filter_predicates)"
   ]
  },
  {
   "cell_type": "code",
   "execution_count": null,
   "id": "oriented-binary",
   "metadata": {},
   "outputs": [],
   "source": []
  },
  {
   "cell_type": "code",
   "execution_count": null,
   "id": "later-birth",
   "metadata": {},
   "outputs": [],
   "source": []
  }
 ],
 "metadata": {
  "kernelspec": {
   "display_name": "Python 3",
   "language": "python",
   "name": "python3"
  },
  "language_info": {
   "codemirror_mode": {
    "name": "ipython",
    "version": 3
   },
   "file_extension": ".py",
   "mimetype": "text/x-python",
   "name": "python",
   "nbconvert_exporter": "python",
   "pygments_lexer": "ipython3",
   "version": "3.9.1"
  }
 },
 "nbformat": 4,
 "nbformat_minor": 5
}
