{
 "cells": [
  {
   "cell_type": "code",
   "execution_count": 1,
   "id": "seventh-alfred",
   "metadata": {},
   "outputs": [],
   "source": [
    "class IgnoreMe(Exception):\n",
    "    pass"
   ]
  },
  {
   "cell_type": "code",
   "execution_count": 26,
   "id": "hired-sensitivity",
   "metadata": {},
   "outputs": [],
   "source": [
    "def echo():\n",
    "    try:\n",
    "        output = None\n",
    "        while True:\n",
    "            try:\n",
    "                recieved = yield output\n",
    "                print(recieved)\n",
    "            except IgnoreMe:\n",
    "                output = 'I am ignoring you'\n",
    "            else:\n",
    "                output = None\n",
    "    except ValueError:\n",
    "        print('Value Error occured')\n",
    "        return 'subgen returned'\n",
    "    except GeneratorExit:\n",
    "        print('Closing the generator')\n",
    "        return 'subgen closed'"
   ]
  },
  {
   "cell_type": "code",
   "execution_count": 27,
   "id": "local-harris",
   "metadata": {},
   "outputs": [],
   "source": [
    "def delegator():\n",
    "    result = yield from echo()\n",
    "    print(result)\n",
    "    yield 'delegator closing'\n",
    "    print('delegator closed')"
   ]
  },
  {
   "cell_type": "code",
   "execution_count": 29,
   "id": "noted-tutorial",
   "metadata": {},
   "outputs": [],
   "source": [
    "d = delegator()"
   ]
  },
  {
   "cell_type": "code",
   "execution_count": 30,
   "id": "brave-respect",
   "metadata": {},
   "outputs": [
    {
     "name": "stdout",
     "output_type": "stream",
     "text": [
      "None\n"
     ]
    }
   ],
   "source": [
    "print(next(d))"
   ]
  },
  {
   "cell_type": "code",
   "execution_count": 31,
   "id": "regulation-series",
   "metadata": {},
   "outputs": [
    {
     "name": "stdout",
     "output_type": "stream",
     "text": [
      "Hello world\n"
     ]
    }
   ],
   "source": [
    "d.send('Hello world')"
   ]
  },
  {
   "cell_type": "code",
   "execution_count": 32,
   "id": "proper-cutting",
   "metadata": {},
   "outputs": [
    {
     "name": "stdout",
     "output_type": "stream",
     "text": [
      "Python rocks\n"
     ]
    }
   ],
   "source": [
    "d.send('Python rocks')"
   ]
  },
  {
   "cell_type": "code",
   "execution_count": 33,
   "id": "aware-blade",
   "metadata": {},
   "outputs": [
    {
     "data": {
      "text/plain": [
       "'I am ignoring you'"
      ]
     },
     "execution_count": 33,
     "metadata": {},
     "output_type": "execute_result"
    }
   ],
   "source": [
    "d.throw(IgnoreMe)"
   ]
  },
  {
   "cell_type": "code",
   "execution_count": 34,
   "id": "enabling-south",
   "metadata": {},
   "outputs": [
    {
     "name": "stdout",
     "output_type": "stream",
     "text": [
      "Python\n"
     ]
    }
   ],
   "source": [
    "d.send('Python')"
   ]
  },
  {
   "cell_type": "code",
   "execution_count": 35,
   "id": "joint-vitamin",
   "metadata": {},
   "outputs": [
    {
     "name": "stdout",
     "output_type": "stream",
     "text": [
      "Hello\n"
     ]
    }
   ],
   "source": [
    "d.send('Hello')"
   ]
  },
  {
   "cell_type": "code",
   "execution_count": 58,
   "id": "central-bookmark",
   "metadata": {},
   "outputs": [],
   "source": [
    "class WriteAverage(Exception):\n",
    "    pass\n",
    "\n",
    "def averager(filename):\n",
    "    total = 0\n",
    "    count = 0\n",
    "    average = None\n",
    "    with open(filename,'w') as file:\n",
    "        file.write('count, average')\n",
    "        while True:\n",
    "            try:\n",
    "                value = yield average\n",
    "                total += value\n",
    "                count += 1\n",
    "                average = total / count\n",
    "            except WriteAverage:\n",
    "                file.write(f'\\n{count}, {average}')\n",
    "        "
   ]
  },
  {
   "cell_type": "code",
   "execution_count": 59,
   "id": "handled-cycling",
   "metadata": {},
   "outputs": [],
   "source": [
    "avg = averager('samples.csv')"
   ]
  },
  {
   "cell_type": "code",
   "execution_count": 60,
   "id": "prostate-medication",
   "metadata": {},
   "outputs": [],
   "source": [
    "next(avg)"
   ]
  },
  {
   "cell_type": "code",
   "execution_count": 61,
   "id": "varying-halloween",
   "metadata": {},
   "outputs": [
    {
     "name": "stdout",
     "output_type": "stream",
     "text": [
      "[]\n"
     ]
    }
   ],
   "source": [
    "with open('samples.csv') as file:\n",
    "    print(list(file))"
   ]
  },
  {
   "cell_type": "code",
   "execution_count": 62,
   "id": "acknowledged-checklist",
   "metadata": {},
   "outputs": [
    {
     "data": {
      "text/plain": [
       "2.0"
      ]
     },
     "execution_count": 62,
     "metadata": {},
     "output_type": "execute_result"
    }
   ],
   "source": [
    "avg.send(2)"
   ]
  },
  {
   "cell_type": "code",
   "execution_count": 63,
   "id": "eligible-asbestos",
   "metadata": {},
   "outputs": [
    {
     "data": {
      "text/plain": [
       "1.5"
      ]
     },
     "execution_count": 63,
     "metadata": {},
     "output_type": "execute_result"
    }
   ],
   "source": [
    "avg.send(1)"
   ]
  },
  {
   "cell_type": "code",
   "execution_count": 64,
   "id": "stuck-preservation",
   "metadata": {},
   "outputs": [
    {
     "data": {
      "text/plain": [
       "1.5"
      ]
     },
     "execution_count": 64,
     "metadata": {},
     "output_type": "execute_result"
    }
   ],
   "source": [
    "avg.throw(WriteAverage)"
   ]
  },
  {
   "cell_type": "code",
   "execution_count": 65,
   "id": "operating-population",
   "metadata": {},
   "outputs": [
    {
     "name": "stdout",
     "output_type": "stream",
     "text": [
      "[]\n"
     ]
    }
   ],
   "source": [
    "with open('samples.csv') as file:\n",
    "    print(list(file))"
   ]
  },
  {
   "cell_type": "code",
   "execution_count": 66,
   "id": "quantitative-drink",
   "metadata": {},
   "outputs": [
    {
     "data": {
      "text/plain": [
       "4.333333333333333"
      ]
     },
     "execution_count": 66,
     "metadata": {},
     "output_type": "execute_result"
    }
   ],
   "source": [
    "avg.send(10)"
   ]
  },
  {
   "cell_type": "code",
   "execution_count": 67,
   "id": "driven-cologne",
   "metadata": {},
   "outputs": [
    {
     "data": {
      "text/plain": [
       "4.5"
      ]
     },
     "execution_count": 67,
     "metadata": {},
     "output_type": "execute_result"
    }
   ],
   "source": [
    "avg.send(5)"
   ]
  },
  {
   "cell_type": "code",
   "execution_count": 68,
   "id": "classified-violation",
   "metadata": {},
   "outputs": [
    {
     "data": {
      "text/plain": [
       "4.5"
      ]
     },
     "execution_count": 68,
     "metadata": {},
     "output_type": "execute_result"
    }
   ],
   "source": [
    "avg.throw(WriteAverage)"
   ]
  },
  {
   "cell_type": "code",
   "execution_count": 69,
   "id": "cooked-graduation",
   "metadata": {},
   "outputs": [
    {
     "name": "stdout",
     "output_type": "stream",
     "text": [
      "[]\n"
     ]
    }
   ],
   "source": [
    "with open('samples.csv') as file:\n",
    "    print(list(file))"
   ]
  },
  {
   "cell_type": "code",
   "execution_count": 70,
   "id": "activated-witch",
   "metadata": {},
   "outputs": [],
   "source": [
    "avg.close()"
   ]
  },
  {
   "cell_type": "code",
   "execution_count": 71,
   "id": "statewide-stationery",
   "metadata": {},
   "outputs": [
    {
     "name": "stdout",
     "output_type": "stream",
     "text": [
      "['count, average\\n', '2, 1.5\\n', '4, 4.5']\n"
     ]
    }
   ],
   "source": [
    "with open('samples.csv') as file:\n",
    "    print(list(file))"
   ]
  },
  {
   "cell_type": "code",
   "execution_count": 72,
   "id": "bronze-missile",
   "metadata": {},
   "outputs": [],
   "source": [
    "avg = averager('samples.csv')"
   ]
  },
  {
   "cell_type": "code",
   "execution_count": 73,
   "id": "resident-scheme",
   "metadata": {},
   "outputs": [
    {
     "ename": "WriteAverage",
     "evalue": "",
     "output_type": "error",
     "traceback": [
      "\u001b[1;31m---------------------------------------------------------------------------\u001b[0m",
      "\u001b[1;31mWriteAverage\u001b[0m                              Traceback (most recent call last)",
      "\u001b[1;32m<ipython-input-73-a8897380f98a>\u001b[0m in \u001b[0;36m<module>\u001b[1;34m\u001b[0m\n\u001b[1;32m----> 1\u001b[1;33m \u001b[0mavg\u001b[0m\u001b[1;33m.\u001b[0m\u001b[0mthrow\u001b[0m\u001b[1;33m(\u001b[0m\u001b[0mWriteAverage\u001b[0m\u001b[1;33m)\u001b[0m\u001b[1;33m\u001b[0m\u001b[1;33m\u001b[0m\u001b[0m\n\u001b[0m",
      "\u001b[1;32m<ipython-input-58-62345486f23a>\u001b[0m in \u001b[0;36maverager\u001b[1;34m(filename)\u001b[0m\n\u001b[0;32m      2\u001b[0m     \u001b[1;32mpass\u001b[0m\u001b[1;33m\u001b[0m\u001b[1;33m\u001b[0m\u001b[0m\n\u001b[0;32m      3\u001b[0m \u001b[1;33m\u001b[0m\u001b[0m\n\u001b[1;32m----> 4\u001b[1;33m \u001b[1;32mdef\u001b[0m \u001b[0maverager\u001b[0m\u001b[1;33m(\u001b[0m\u001b[0mfilename\u001b[0m\u001b[1;33m)\u001b[0m\u001b[1;33m:\u001b[0m\u001b[1;33m\u001b[0m\u001b[1;33m\u001b[0m\u001b[0m\n\u001b[0m\u001b[0;32m      5\u001b[0m     \u001b[0mtotal\u001b[0m \u001b[1;33m=\u001b[0m \u001b[1;36m0\u001b[0m\u001b[1;33m\u001b[0m\u001b[1;33m\u001b[0m\u001b[0m\n\u001b[0;32m      6\u001b[0m     \u001b[0mcount\u001b[0m \u001b[1;33m=\u001b[0m \u001b[1;36m0\u001b[0m\u001b[1;33m\u001b[0m\u001b[1;33m\u001b[0m\u001b[0m\n",
      "\u001b[1;31mWriteAverage\u001b[0m: "
     ]
    }
   ],
   "source": [
    "avg.throw(WriteAverage)"
   ]
  },
  {
   "cell_type": "code",
   "execution_count": 74,
   "id": "satellite-complement",
   "metadata": {},
   "outputs": [
    {
     "ename": "StopIteration",
     "evalue": "",
     "output_type": "error",
     "traceback": [
      "\u001b[1;31m---------------------------------------------------------------------------\u001b[0m",
      "\u001b[1;31mStopIteration\u001b[0m                             Traceback (most recent call last)",
      "\u001b[1;32m<ipython-input-74-616646ea0648>\u001b[0m in \u001b[0;36m<module>\u001b[1;34m\u001b[0m\n\u001b[1;32m----> 1\u001b[1;33m \u001b[0mnext\u001b[0m\u001b[1;33m(\u001b[0m\u001b[0mavg\u001b[0m\u001b[1;33m)\u001b[0m\u001b[1;33m\u001b[0m\u001b[1;33m\u001b[0m\u001b[0m\n\u001b[0m",
      "\u001b[1;31mStopIteration\u001b[0m: "
     ]
    }
   ],
   "source": [
    "next(avg)"
   ]
  },
  {
   "cell_type": "code",
   "execution_count": 75,
   "id": "dirty-desire",
   "metadata": {},
   "outputs": [],
   "source": [
    "avg = averager('samples.csv')"
   ]
  },
  {
   "cell_type": "code",
   "execution_count": 76,
   "id": "expensive-expansion",
   "metadata": {},
   "outputs": [],
   "source": [
    "next(avg)"
   ]
  },
  {
   "cell_type": "code",
   "execution_count": 77,
   "id": "decreased-cache",
   "metadata": {},
   "outputs": [],
   "source": [
    "avg.throw(WriteAverage)"
   ]
  },
  {
   "cell_type": "code",
   "execution_count": 78,
   "id": "faced-rally",
   "metadata": {},
   "outputs": [
    {
     "data": {
      "text/plain": [
       "1.0"
      ]
     },
     "execution_count": 78,
     "metadata": {},
     "output_type": "execute_result"
    }
   ],
   "source": [
    "avg.send(1)"
   ]
  },
  {
   "cell_type": "code",
   "execution_count": 79,
   "id": "homeless-vessel",
   "metadata": {},
   "outputs": [],
   "source": [
    "avg.close()"
   ]
  },
  {
   "cell_type": "code",
   "execution_count": 80,
   "id": "illegal-capital",
   "metadata": {},
   "outputs": [
    {
     "name": "stdout",
     "output_type": "stream",
     "text": [
      "['count, average\\n', '0, None']\n"
     ]
    }
   ],
   "source": [
    "with open('samples.csv') as file:\n",
    "    print(list(file))"
   ]
  },
  {
   "cell_type": "code",
   "execution_count": null,
   "id": "sunrise-charleston",
   "metadata": {},
   "outputs": [],
   "source": []
  }
 ],
 "metadata": {
  "kernelspec": {
   "display_name": "Python 3",
   "language": "python",
   "name": "python3"
  },
  "language_info": {
   "codemirror_mode": {
    "name": "ipython",
    "version": 3
   },
   "file_extension": ".py",
   "mimetype": "text/x-python",
   "name": "python",
   "nbconvert_exporter": "python",
   "pygments_lexer": "ipython3",
   "version": "3.9.1"
  }
 },
 "nbformat": 4,
 "nbformat_minor": 5
}
